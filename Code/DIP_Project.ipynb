{
 "cells": [
  {
   "cell_type": "markdown",
   "metadata": {},
   "source": [
    "<h1><center>  DIGITAL IMAGE PROCESSING PROJECT </center></h1>\n",
    "<center> Yaiza Rubio Chavida, Hugo Cortier, Fidan Rustambayli </center>\n",
    "<center> University of Tartu </center>"
   ]
  },
  {
   "cell_type": "markdown",
   "metadata": {},
   "source": [
    "<center>The objective of this idea is to control which people have entered to some place and\n",
    "at what time they did it. </center>\n"
   ]
  },
  {
   "cell_type": "markdown",
   "metadata": {},
   "source": [
    "<center> This program can help to prevent people entering the rooms without belonging to\n",
    "the company / university. Moreover this also can control people who have been together in some place (special importance due to the COVID-19 pandemic) </center>"
   ]
  },
  {
   "cell_type": "markdown",
   "metadata": {},
   "source": [
    "<center> </center>"
   ]
  },
  {
   "cell_type": "markdown",
   "metadata": {},
   "source": [
    "<center> First of all, we wil generate different QR for each person who has access to the place, for that we will ask to the person: the name, date and time.</center> "
   ]
  },
  {
   "cell_type": "code",
   "execution_count": 1,
   "metadata": {},
   "outputs": [
    {
     "name": "stdout",
     "output_type": "stream",
     "text": [
      "You are going to generate a new QR\n",
      "Introduce your name please: \n",
      "Lastname: \n",
      "Email/phone number:\n",
      "Student/teacher/other(specify): \n"
     ]
    }
   ],
   "source": [
    "print(\"You are going to generate a new QR\")\n",
    "name = input(\"Introduce your name please: \")\n",
    "lastname= input(\"Lastname: \")\n",
    "contact= input(\"Email/phone number:\")\n",
    "position = input(\"Student/teacher/other(specify): \")"
   ]
  },
  {
   "cell_type": "markdown",
   "metadata": {},
   "source": [
    "<center>The program will generate a new QR code and it will be saved as an image. </center>"
   ]
  },
  {
   "cell_type": "code",
   "execution_count": 7,
   "metadata": {},
   "outputs": [],
   "source": [
    "import qrcode\n",
    "qr = qrcode.QRCode(version=1, box_size=10,border=5)\n",
    "qr.add_data(\"Name:\" + name)\n",
    "qr.add_data(\"\\nLastname:\" + lastname)\n",
    "qr.add_data(\"\\nContact:\" + contact)\n",
    "qr.add_data(\"\\nPosition:\" + position)\n",
    "qr.make(fit=True)\n",
    "img = qr.make_image(fill='black', back_color='white')\n",
    "img.save(name + \" \" + lastname +'.png')"
   ]
  },
  {
   "cell_type": "markdown",
   "metadata": {},
   "source": [
    "<center>Analyze QR and compare it with the existing ones. </center>"
   ]
  },
  {
   "cell_type": "code",
   "execution_count": null,
   "metadata": {},
   "outputs": [],
   "source": [
    "#some code"
   ]
  },
  {
   "cell_type": "markdown",
   "metadata": {},
   "source": [
    "<center>If the person got the permission to enter, the computer will ask him the date,time and how much time he will be there.</center>"
   ]
  },
  {
   "cell_type": "code",
   "execution_count": null,
   "metadata": {},
   "outputs": [],
   "source": [
    "#some code to decode qr to get name, lastname, and contact information"
   ]
  },
  {
   "cell_type": "code",
   "execution_count": null,
   "metadata": {},
   "outputs": [],
   "source": [
    "#some code for the if.....\n",
    "    print(\"Great! You have access to this room. Please fill the following data:\")\n",
    "    date = input(\"Date:\")\n",
    "    time = input(\"Time:\")\n",
    "    duration = input(\"How much time are you going to stay there:\")\n",
    "    print(\"Thank you\")\n",
    "#some code to save these data(name, lastname,contact, date, time,duration) in a list (maybe dataframe)\n",
    "#some code to sprint the list"
   ]
  },
  {
   "cell_type": "markdown",
   "metadata": {},
   "source": [
    "<center>If the person doesn´t have permission to enter.</center>"
   ]
  },
  {
   "cell_type": "code",
   "execution_count": null,
   "metadata": {},
   "outputs": [],
   "source": [
    "#else:\n",
    "    #print(\"Sorry. You don´t have access to this room.\")"
   ]
  }
 ],
 "metadata": {
  "kernelspec": {
   "display_name": "Python 3",
   "language": "python",
   "name": "python3"
  },
  "language_info": {
   "codemirror_mode": {
    "name": "ipython",
    "version": 3
   },
   "file_extension": ".py",
   "mimetype": "text/x-python",
   "name": "python",
   "nbconvert_exporter": "python",
   "pygments_lexer": "ipython3",
   "version": "3.8.5"
  }
 },
 "nbformat": 4,
 "nbformat_minor": 4
}
