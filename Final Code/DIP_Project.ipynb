{
 "cells": [
  {
   "cell_type": "markdown",
   "metadata": {},
   "source": [
    "<h1><center>  DIGITAL IMAGE PROCESSING PROJECT </center></h1>\n",
    "<center> Yaiza Rubio Chavida, Hugo Cortier, Fidan Rustambayli </center>\n",
    "<center> University of Tartu </center>"
   ]
  },
  {
   "cell_type": "markdown",
   "metadata": {},
   "source": [
    "<center>The objective of this idea is to control which people have entered to some place and\n",
    "at what time they did it. </center>\n"
   ]
  },
  {
   "cell_type": "markdown",
   "metadata": {},
   "source": [
    "<center> This program can help to prevent people entering the rooms without belonging to\n",
    "the company / university. Moreover this also can control people who have been together in some place (special importance due to the COVID-19 pandemic) </center>"
   ]
  },
  {
   "cell_type": "markdown",
   "metadata": {},
   "source": [
    "<center> </center>"
   ]
  },
  {
   "cell_type": "markdown",
   "metadata": {},
   "source": [
    "<center> First of all, we wil generate different QR for each person who has access to the place, for that we will ask to the person: the name, date and time.</center> "
   ]
  },
  {
   "cell_type": "code",
   "execution_count": 1,
   "metadata": {},
   "outputs": [],
   "source": [
    "\n",
    "\n",
    "class People:\n",
    "    date = []\n",
    "    time = []\n",
    "    duration = []\n",
    "    def __init__(self,name,lastname,contact,position):\n",
    "        self.name = name\n",
    "        self.lastname = lastname\n",
    "        self.contact = contact\n",
    "        self.position = position\n",
    "        \n",
    "    def addqrimage(self,img,imgfile):\n",
    "        self.image = img\n",
    "        self.imgfile = imgfile\n",
    "        \n",
    "    \n",
    "    def adddate(date,time, duration):\n",
    "        self.date.append(date)\n",
    "        self.time.append(time)\n",
    "        self.time.append(duration)\n",
    "        \n",
    "    def printdata(self):\n",
    "        print(self.name)\n",
    "        print(self.lastname)\n",
    "        print(self.position)\n",
    "        for i in range(len(self.date)):\n",
    "            print(self.date[i],self.time,self.duration)\n",
    "        \n",
    "    "
   ]
  },
  {
   "cell_type": "code",
   "execution_count": 2,
   "metadata": {},
   "outputs": [
    {
     "name": "stdout",
     "output_type": "stream",
     "text": [
      "You are going to generate a new QR\n",
      "Introduce your name please: Fidan\n",
      "Lastname: Rustambayli\n",
      "Email/phone number:Fidan.nonnnn5@gmail.com\n",
      "Student/teacher/other(specify): student\n"
     ]
    }
   ],
   "source": [
    "print(\"You are going to generate a new QR\")\n",
    "name = input(\"Introduce your name please: \")\n",
    "lastname= input(\"Lastname: \")\n",
    "contact= input(\"Email/phone number:\")\n",
    "position = input(\"Student/teacher/other(specify): \")\n",
    "newperson = People(name,lastname,contact,position)\n"
   ]
  },
  {
   "cell_type": "markdown",
   "metadata": {},
   "source": [
    "<center>The program will generate a new QR code and it will be saved as an image. </center>"
   ]
  },
  {
   "cell_type": "code",
   "execution_count": 15,
   "metadata": {},
   "outputs": [],
   "source": [
    "import qrcode\n",
    "qr = qrcode.QRCode(version=1, box_size=10,border=5)\n",
    "\n",
    "qr.add_data(\"Name:\" + name)\n",
    "qr.add_data(\"\\nLastname:\" + lastname)\n",
    "qr.add_data(\"\\nContact:\" + contact)\n",
    "qr.add_data(\"\\nPosition:\" + position)\n",
    "qr.make(fit=True)\n",
    "\n",
    "img = qr.make_image(fill='black', back_color='white')\n",
    "img.save(name + \" \" + lastname +'.png')\n",
    "imgfilename = name + \" \" + lastname +'.png'\n",
    "newperson.addqrimage(img,imgfilename)"
   ]
  },
  {
   "cell_type": "code",
   "execution_count": 16,
   "metadata": {},
   "outputs": [
    {
     "name": "stdout",
     "output_type": "stream",
     "text": [
      "Great! You have created a new profile: \n",
      "Name:Fidan \n",
      "Lastname:Rustambayli \n",
      "Contact:Fidan.nonnnn5@gmail.com \n",
      "Position:student\n"
     ]
    }
   ],
   "source": [
    "print(\"Great! You have created a new profile: \\nName:\" + name, \"\\nLastname:\" + lastname, \"\\nContact:\" + contact , \"\\nPosition:\" + position)"
   ]
  },
  {
   "cell_type": "code",
   "execution_count": 17,
   "metadata": {},
   "outputs": [
    {
     "data": {
      "image/png": "[encoded data removed]",
      "text/plain": [
       "<IPython.core.display.Image object>"
      ]
     },
     "execution_count": 17,
     "metadata": {},
     "output_type": "execute_result"
    }
   ],
   "source": [
    "from IPython.display import Image\n",
    "\n",
    "Image(imgfilename)"
   ]
  },
  {
   "cell_type": "markdown",
   "metadata": {},
   "source": [
    "<center>Analyze QR and compare it with the existing ones. </center>"
   ]
  },
  {
   "cell_type": "code",
   "execution_count": 18,
   "metadata": {},
   "outputs": [],
   "source": [
    "import qrcode\n",
    "\n",
    "# Creat several demo QR codes\n",
    "\n",
    "for i in range(1,3):\n",
    "    qr = qrcode.QRCode(version=1, box_size=10,border=5)\n",
    "    qr.add_data(\"data:\"+str(i) )\n",
    "    img = qr.make_image(fill='black', back_color='white')\n",
    "    img.save('demo'+ str(i) +'.png')"
   ]
  },
  {
   "cell_type": "code",
   "execution_count": 19,
   "metadata": {},
   "outputs": [
    {
     "name": "stdout",
     "output_type": "stream",
     "text": [
      "These images are completally different images 18269.250780437043\n"
     ]
    }
   ],
   "source": [
    "#some code\n",
    "import cv2\n",
    "import numpy as np\n",
    "\n",
    "image1 = cv2.imread('demo1.png')\n",
    "image2 = cv2.imread(\"demo2.png\")\n",
    "\n",
    "def mse(imageA, imageB):\n",
    "\n",
    "    err = np.sum((imageA.astype(\"float\") - imageB.astype(\"float\")) ** 2)\n",
    "    err /= float(imageA.shape[0] * imageA.shape[1])\n",
    "    return err\n",
    "\n",
    "print('These images are completally different images', mse(image1,image2))\n",
    "err = mse(image1,image2)"
   ]
  },
  {
   "cell_type": "code",
   "execution_count": 20,
   "metadata": {},
   "outputs": [
    {
     "data": {
      "image/png": "[encoded data removed]",
      "text/plain": [
       "<IPython.core.display.Image object>"
      ]
     },
     "execution_count": 20,
     "metadata": {},
     "output_type": "execute_result"
    }
   ],
   "source": [
    "Image('demo2.png')"
   ]
  },
  {
   "cell_type": "code",
   "execution_count": 21,
   "metadata": {},
   "outputs": [
    {
     "data": {
      "image/png": "[encoded data removed]",
      "text/plain": [
       "<IPython.core.display.Image object>"
      ]
     },
     "execution_count": 21,
     "metadata": {},
     "output_type": "execute_result"
    }
   ],
   "source": [
    "Image('demo1.png')"
   ]
  },
  {
   "cell_type": "markdown",
   "metadata": {},
   "source": [
    "<center>If the person got the permission to enter, the computer will ask him the date,time and how much time he will be there.</center>"
   ]
  },
  {
   "cell_type": "code",
   "execution_count": 22,
   "metadata": {},
   "outputs": [
    {
     "name": "stdout",
     "output_type": "stream",
     "text": [
      "Name:Fidan\n",
      "Lastname:Rustambayli\n",
      "Contact:Fidan.nonnnn5@gmail.com\n",
      "Position:student\n"
     ]
    },
    {
     "data": {
      "image/png": "[encoded data removed]",
      "text/plain": [
       "<PIL.PngImagePlugin.PngImageFile image mode=1 size=470x470 at 0x2C0FE2AEF40>"
      ]
     },
     "execution_count": 22,
     "metadata": {},
     "output_type": "execute_result"
    }
   ],
   "source": [
    "#Decoding qr to get name, lastname, and contact information\n",
    "\n",
    "from pyzbar.pyzbar import decode\n",
    "from PIL import Image\n",
    "\n",
    "img = Image.open('Fidan Rustambayli.png')\n",
    "\n",
    "result = decode(img)\n",
    "\n",
    "for i in result:\n",
    "    print(i.data.decode(\"utf-8\"))\n",
    "    \n",
    "img"
   ]
  },
  {
   "cell_type": "code",
   "execution_count": 23,
   "metadata": {},
   "outputs": [],
   "source": [
    "if err < 100: # 100 is threshold\n",
    "    print(\"Great! You have access to this room. Please fill the following data:\")\n",
    "    \n",
    "    date = input(\"Date:\")\n",
    "    \n",
    "    duration = input(\"How much time are you going to stay there:\")\n",
    "    print(\"Thank you\")\n",
    "    \n",
    "    newperson.adddate(date,time,duration)"
   ]
  },
  {
   "cell_type": "code",
   "execution_count": 24,
   "metadata": {},
   "outputs": [
    {
     "name": "stdout",
     "output_type": "stream",
     "text": [
      "Fidan\n",
      "Rustambayli\n",
      "student\n"
     ]
    }
   ],
   "source": [
    "newperson.printdata()"
   ]
  },
  {
   "cell_type": "code",
   "execution_count": 25,
   "metadata": {},
   "outputs": [
    {
     "name": "stdout",
     "output_type": "stream",
     "text": [
      "   Name  Lastname  Date  Time  Duration\n",
      "0  name  lastname  date  time  duration\n"
     ]
    }
   ],
   "source": [
    "import pandas as pd\n",
    "access = {'Name': ['name'],'Lastname': ['lastname'], 'Date': ['date'], 'Time': ['time'], 'Duration': ['duration']}\n",
    "df = pd.DataFrame(access, columns = ['Name', 'Lastname','Date', 'Time', 'Duration'])\n",
    "add = {'Name': [newperson.name],'Lastname': [newperson.lastname], 'Date': [newperson.date], 'Time': [newperson.time], 'Duration': [newperson.duration]}\n",
    "df2 = pd.DataFrame(add, columns = ['Name', 'Lastname','Date', 'Time', 'Duration'])\n",
    "df.append(df2, ignore_index=True)\n",
    "print (df)"
   ]
  },
  {
   "cell_type": "markdown",
   "metadata": {},
   "source": [
    "<center>If the person doesn´t have permission to enter.</center>"
   ]
  },
  {
   "cell_type": "code",
   "execution_count": 26,
   "metadata": {},
   "outputs": [
    {
     "name": "stdout",
     "output_type": "stream",
     "text": [
      "Sorry. You do not have access to this room.\n"
     ]
    }
   ],
   "source": [
    "if err >= 100:\n",
    "    print(\"Sorry. You do not have access to this room.\")"
   ]
  },
  {
   "cell_type": "code",
   "execution_count": null,
   "metadata": {},
   "outputs": [],
   "source": []
  }
 ],
 "metadata": {
  "kernelspec": {
   "display_name": "Python 3",
   "language": "python",
   "name": "python3"
  },
  "language_info": {
   "codemirror_mode": {
    "name": "ipython",
    "version": 3
   },
   "file_extension": ".py",
   "mimetype": "text/x-python",
   "name": "python",
   "nbconvert_exporter": "python",
   "pygments_lexer": "ipython3",
   "version": "3.8.3"
  }
 },
 "nbformat": 4,
 "nbformat_minor": 4
}
